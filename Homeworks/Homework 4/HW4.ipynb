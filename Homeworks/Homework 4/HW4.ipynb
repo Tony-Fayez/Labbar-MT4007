{
 "cells": [
  {
   "cell_type": "markdown",
   "metadata": {},
   "source": [
    "# <center> Homework 4\n",
    "\n",
    "### Summary\n",
    "In this report we will work with SQL and Regex to solve various tasks thru out the report. But we will also revisit something that we previously did and that is managing dataframes with missing values and then merging diffrent dataframes togther.\n",
    "\n",
    "### Joining Data\n",
    "\n",
    "In this task, we combine two datasets—cell phone data and population data—to analyze the number of cell phones per capita for each country over time and for clearification we will use another csv file to better understand in which country the calls were made in. \n",
    "\n",
    "Well start by cleaning and pivoting both datasets into the right format. Each dataset should have columns like iso-3, year, n_cellphones, and population, with each row representing a country in a given year.\n",
    "\n",
    "After reshaping, combine the cell phone data and population data using a common key, such as the country code (iso-3) and year.\n",
    "\n",
    "During the reshaping and merging process, there may be missing values. You need to handle these appropriately (e.g., filling or removing them).\n",
    "\n",
    "Once the datasets are merged, calculate the number of cell phones per capita by dividing the number of cell phones (n_cellphones) by the population for each country and year.\n",
    "\n",
    "The final result will be a table showing the number of cell phones per capita for each country, over the years."
   ]
  },
  {
   "cell_type": "code",
   "execution_count": null,
   "metadata": {},
   "outputs": [
    {
     "name": "stdout",
     "output_type": "stream",
     "text": [
      "  iso-3  year  n_cellphones\n",
      "0   ABW  1960           0.0\n",
      "1   AFG  1960           0.0\n",
      "2   AGO  1960           0.0\n",
      "3   ALB  1960           0.0\n",
      "4   AND  1960           0.0\n"
     ]
    },
    {
     "name": "stderr",
     "output_type": "stream",
     "text": [
      "C:\\Users\\tonyf\\AppData\\Local\\Temp\\ipykernel_18724\\1915285176.py:27: FutureWarning: A value is trying to be set on a copy of a DataFrame or Series through chained assignment using an inplace method.\n",
      "The behavior will change in pandas 3.0. This inplace method will never work because the intermediate object on which we are setting values always behaves as a copy.\n",
      "\n",
      "For example, when doing 'df[col].method(value, inplace=True)', try using 'df.method({col: value}, inplace=True)' or df[col] = df[col].method(value) instead, to perform the operation inplace on the original object.\n",
      "\n",
      "\n",
      "  cell_phone_data_long['n_cellphones'].fillna(0, inplace=True)\n"
     ]
    }
   ],
   "source": [
    "import pandas as pd\n",
    "\n",
    "def convert_to_numeric(value):\n",
    "    '''\n",
    "    Convert all values in the DataFrame to numeric values instead\n",
    "    '''\n",
    "    if isinstance(value, str):\n",
    "        value = value.replace('k', 'e3').replace('M', 'e6')  # Convert 'k' to 'e3', 'M' to 'e6'\n",
    "    try:\n",
    "        return pd.to_numeric(value, errors='coerce')  # invalid values become NaN values instead\n",
    "    except:\n",
    "        return None  # In case of invalid conversion which occurred, it returns None and will become a NaN value  \n",
    "\n",
    "cell_phone_data = pd.read_csv('cell_phones_total.csv')\n",
    "# Reshape the data into a long format\n",
    "#Converting columns into rows for each year\n",
    "cell_phone_data_long = cell_phone_data.melt(id_vars=[\"iso-3\"], var_name=\"year\", value_name=\"n_cellphones\")\n",
    "\n",
    "# Converting the 'n_cellphones' column into numeric values\n",
    "cell_phone_data_long['n_cellphones'] = cell_phone_data_long['n_cellphones'].map(convert_to_numeric)\n",
    "\n",
    "# Converting the 'year' column to numeric (it might be in string format after melting)\n",
    "cell_phone_data_long['year'] = pd.to_numeric(cell_phone_data_long['year'], errors='coerce')\n",
    "\n",
    "# Handling missing data with replacing them with 0\n",
    "cell_phone_data_long['n_cellphones'].fillna(0, inplace=True)\n",
    "print(cell_phone_data_long.head())\n"
   ]
  },
  {
   "cell_type": "markdown",
   "metadata": {},
   "source": [
    "We need to join the data by using teqniques such as pivoting. "
   ]
  },
  {
   "cell_type": "code",
   "execution_count": null,
   "metadata": {},
   "outputs": [
    {
     "name": "stdout",
     "output_type": "stream",
     "text": [
      "  iso-3  year  population\n",
      "0   ABW   NaN         0.0\n",
      "1   AFE   NaN         1.0\n",
      "2   AFG   NaN         2.0\n",
      "3   AFW   NaN         3.0\n",
      "4   AGO   NaN         4.0\n"
     ]
    },
    {
     "name": "stderr",
     "output_type": "stream",
     "text": [
      "C:\\Users\\tonyf\\AppData\\Local\\Temp\\ipykernel_18724\\3874350138.py:12: FutureWarning: A value is trying to be set on a copy of a DataFrame or Series through chained assignment using an inplace method.\n",
      "The behavior will change in pandas 3.0. This inplace method will never work because the intermediate object on which we are setting values always behaves as a copy.\n",
      "\n",
      "For example, when doing 'df[col].method(value, inplace=True)', try using 'df.method({col: value}, inplace=True)' or df[col] = df[col].method(value) instead, to perform the operation inplace on the original object.\n",
      "\n",
      "\n",
      "  pop_data_long['population'].fillna(method='ffill', inplace=True)\n",
      "C:\\Users\\tonyf\\AppData\\Local\\Temp\\ipykernel_18724\\3874350138.py:12: FutureWarning: Series.fillna with 'method' is deprecated and will raise in a future version. Use obj.ffill() or obj.bfill() instead.\n",
      "  pop_data_long['population'].fillna(method='ffill', inplace=True)\n"
     ]
    }
   ],
   "source": [
    "pop_data = pd.read_csv('pop_data.csv')\n",
    "# Reshaping the population data to long format\n",
    "pop_data_long = pop_data.melt(id_vars=[\"iso-3\"], var_name=\"year\", value_name=\"population\")\n",
    "\n",
    "# Converting 'year' and 'population' columns to numeric\n",
    "pop_data_long['year'] = pd.to_numeric(pop_data_long['year'], errors='coerce')\n",
    "pop_data_long['population'] = pd.to_numeric(pop_data_long['population'], errors='coerce')\n",
    "\n",
    "# Handling missing values in the population column (e.g., forward fill or fill with 0)\n",
    "pop_data_long['population'].fillna(method='ffill', inplace=True)\n",
    "print(pop_data_long.head())"
   ]
  },
  {
   "cell_type": "code",
   "execution_count": null,
   "metadata": {},
   "outputs": [
    {
     "name": "stdout",
     "output_type": "stream",
     "text": [
      "  iso-3  year  n_cellphones  population\n",
      "0   ABW  1960           0.0     54608.0\n",
      "1   AFG  1960           0.0   8622466.0\n",
      "2   AGO  1960           0.0   5357195.0\n",
      "3   ALB  1960           0.0   1608800.0\n",
      "4   AND  1960           0.0      9443.0\n"
     ]
    }
   ],
   "source": [
    "# Merging reshaped cell phone data and population data\n",
    "merged_data = pd.merge(cell_phone_data_long, pop_data_long, on=['iso-3', 'year'], how='inner')\n",
    "\n",
    "# Mimicing the table in the instructions\n",
    "final_data = merged_data[['iso-3', 'year', 'n_cellphones', 'population']]\n",
    "\n",
    "# Display the final merged dataset\n",
    "print(final_data.head())\n",
    "final_data.to_csv('final_data.csv', index=False)"
   ]
  },
  {
   "cell_type": "markdown",
   "metadata": {},
   "source": [
    "The table above is the desired shape we'd like to work with."
   ]
  },
  {
   "cell_type": "code",
   "execution_count": null,
   "metadata": {},
   "outputs": [
    {
     "name": "stdout",
     "output_type": "stream",
     "text": [
      "country  Hong Kong  United Arab Emirates  Seychelles  Montenegro  Thailand\n",
      "year                                                                      \n",
      "2015      2.290401              2.007424    1.584260    1.623379  1.465266\n",
      "2016      2.398931              2.212521    1.605459    1.671212  1.699547\n",
      "2017      2.488773              2.183431    1.742433    1.671024  1.720777\n",
      "2018      2.670209              2.199084    1.849900    1.816057  1.757400\n",
      "2019      2.863650              2.127739    1.987196    1.848791  1.823083\n"
     ]
    }
   ],
   "source": [
    "country_data = pd.read_csv('country_data.csv')\n",
    "\n",
    "# Extracting relevant columns: 'alpha-3' and 'name'\n",
    "country_data_filtered = country_data[['alpha-3', 'name']].rename(columns={'alpha-3': 'iso-3', 'name': 'country'})\n",
    "\n",
    "merged_data = pd.merge(cell_phone_data_long, pop_data_long, on=['iso-3', 'year'], how='inner')\n",
    "\n",
    "# Country names by merging with the country data\n",
    "merged_data = pd.merge(merged_data, country_data_filtered, on='iso-3', how='left')\n",
    "\n",
    "merged_data['phones_per_capita'] = merged_data['n_cellphones'] / merged_data['population']\n",
    "\n",
    "data_2019 = merged_data[merged_data['year'] == 2019]\n",
    "\n",
    "# Sorting by phones_per_capita in descending order\n",
    "top_countries_2019 = data_2019.sort_values('phones_per_capita', ascending=False).head()\n",
    "\n",
    "# Selecting only country names and phones_per_capita for 2019\n",
    "top_countries_2019 = top_countries_2019[['country', 'phones_per_capita']].set_index('country').T\n",
    "\n",
    "filtered_years = merged_data[(merged_data['year'] >= 2015) & (merged_data['year'] <= 2019)]\n",
    "\n",
    "# Pivoting the data to have years as rows and countries as columns\n",
    "pivot_data = filtered_years.pivot(index='year', columns='country', values='phones_per_capita')\n",
    "\n",
    "# Picking the top 5 countries for 2019\n",
    "top_5_countries = top_countries_2019.columns[:5]\n",
    "final_table = pivot_data[top_5_countries]\n",
    "print(final_table)\n",
    "\n",
    "# Saveing the final table to a CSV file\n",
    "final_table.to_csv('phones_per_capita_2015_2019.csv', index=True)"
   ]
  },
  {
   "cell_type": "markdown",
   "metadata": {},
   "source": [
    "We've used different teqniques to obatin this shape of csv file "
   ]
  },
  {
   "cell_type": "code",
   "execution_count": null,
   "metadata": {},
   "outputs": [
    {
     "name": "stderr",
     "output_type": "stream",
     "text": [
      "C:\\Users\\tonyf\\AppData\\Local\\Temp\\ipykernel_18724\\2272498938.py:11: SettingWithCopyWarning: \n",
      "A value is trying to be set on a copy of a slice from a DataFrame.\n",
      "Try using .loc[row_indexer,col_indexer] = value instead\n",
      "\n",
      "See the caveats in the documentation: https://pandas.pydata.org/pandas-docs/stable/user_guide/indexing.html#returning-a-view-versus-a-copy\n",
      "  data_last_5_years['phones_per_capita'] = data_last_5_years['n_cellphones'] / data_last_5_years['population']\n"
     ]
    },
    {
     "data": {
      "text/plain": [
       "<Figure size 1200x800 with 0 Axes>"
      ]
     },
     "metadata": {},
     "output_type": "display_data"
    },
    {
     "data": {
      "image/png": "[encoded data removed]",
      "text/plain": [
       "<Figure size 1200x800 with 1 Axes>"
      ]
     },
     "metadata": {},
     "output_type": "display_data"
    }
   ],
   "source": [
    "import matplotlib.pyplot as plt\n",
    "\n",
    "country_mapping = pd.read_csv('country_data.csv')\n",
    "# Creating a dictionary for iso-3 to country names\n",
    "iso_to_country = dict(zip(country_mapping['alpha-3'], country_mapping['name']))\n",
    "\n",
    "# Filtering the data for the last 5 years (2015-2019)\n",
    "data_last_5_years = merged_data[merged_data['year'] >= 2015]\n",
    "\n",
    "# Calculating phones per capita\n",
    "data_last_5_years['phones_per_capita'] = data_last_5_years['n_cellphones'] / data_last_5_years['population']\n",
    "\n",
    "# Pivoting the data so that each country is a column and years are rows\n",
    "pivot_data = data_last_5_years.pivot(index='year', columns='iso-3', values='phones_per_capita')\n",
    "\n",
    "# Top 5 countries with highest phones per capita in 2019 (or any other year)\n",
    "top_countries = pivot_data.loc[2019].sort_values(ascending=False).head(5).index\n",
    "\n",
    "# Filter the data to include only the top countries\n",
    "top_countries_data = pivot_data[top_countries]\n",
    "\n",
    "# Map ISO-3 codes to country names\n",
    "top_countries_data.columns = [iso_to_country[iso] for iso in top_countries_data.columns]\n",
    "\n",
    "# Ploting the phones per capita for the top countries over the last 5 years\n",
    "plt.figure(figsize=(12, 8))\n",
    "top_countries_data.plot(kind='bar', figsize=(12, 8), colormap='tab20')\n",
    "\n",
    "plt.title('Top 5 Countries by Cell Phones per Capita (2015-2019)', fontsize=14)\n",
    "plt.xlabel('Year', fontsize=12)\n",
    "plt.ylabel('Phones per Capita', fontsize=12)\n",
    "plt.xticks(rotation=45)\n",
    "plt.grid(axis='y', linestyle='--', alpha=0.7)\n",
    "plt.tight_layout()\n",
    "plt.show()"
   ]
  },
  {
   "cell_type": "markdown",
   "metadata": {},
   "source": [
    "This is in line of what the table showed us earlier"
   ]
  },
  {
   "cell_type": "markdown",
   "metadata": {},
   "source": [
    "### SQL\n",
    "We will perform several analyses on the user_actions table from an SQLite database file (user_actions.db).\n",
    "\n",
    "We'll retrieve Usernames of Users Who Signed Up by using an SQL query to fetch the usernames of all users who have performed the \"signup\" action.\n",
    "Then we will perform another query to fetch the Total Number of Log Entries per User and again use SQL to calculate the total number of log entries for each user, showing the user_id, username, and the count of log entries.\n",
    "\n",
    "Identifying Users Who Signed Up and Logged In on the Same Day is obtained writing an SQL query to identify users who performed both the \"signup\" and \"login\" actions on the same day, and display their user_id and username.\n"
   ]
  },
  {
   "cell_type": "code",
   "execution_count": 19,
   "metadata": {},
   "outputs": [
    {
     "name": "stdout",
     "output_type": "stream",
     "text": [
      "Usernames of users who performed 'signup' action:\n",
      "['user34', 'user28', 'user1', 'user24', 'user15', 'user20', 'user18', 'user25', 'user3', 'user9', 'user27', 'user16', 'user17', 'user4', 'user8', 'user13', 'user19', 'user31', 'user10', 'user23', 'user11', 'user33', 'user12', 'user29', 'user21', 'user6', 'user14', 'user30', 'user7', 'user26', 'user22', 'user5', 'user35', 'user2', 'user32']\n"
     ]
    }
   ],
   "source": [
    "import sqlite3\n",
    "# Path to the SQLite database\n",
    "db_path = 'user_actions.db'\n",
    "\n",
    "# Connect to the database\n",
    "conn = sqlite3.connect(db_path)\n",
    "\n",
    "# Create a cursor object\n",
    "cursor = conn.cursor()\n",
    "\n",
    "# SQL query to retrieve usernames for the \"signup\" action\n",
    "query = \"SELECT username FROM user_actions WHERE action = 'signup'\"\n",
    "\n",
    "# Execute the query\n",
    "cursor.execute(query)\n",
    "\n",
    "# Fetch all matching rows\n",
    "signup_users = cursor.fetchall()\n",
    "\n",
    "# Close the connection\n",
    "conn.close()\n",
    "\n",
    "# Extract usernames from the results\n",
    "signup_usernames = [row[0] for row in signup_users]\n",
    "\n",
    "# Display the usernames\n",
    "print(\"Usernames of users who performed 'signup' action:\")\n",
    "print(signup_usernames)"
   ]
  },
  {
   "cell_type": "code",
   "execution_count": null,
   "metadata": {},
   "outputs": [
    {
     "name": "stdout",
     "output_type": "stream",
     "text": [
      "User Log Counts:\n",
      "User ID    Username             Log Count \n",
      "13         user13               470       \n",
      "6          user6                457       \n",
      "4          user4                436       \n",
      "35         user35               394       \n",
      "31         user31               389       \n",
      "16         user16               379       \n",
      "17         user17               367       \n",
      "7          user7                362       \n",
      "20         user20               362       \n",
      "8          user8                329       \n",
      "11         user11               328       \n",
      "21         user21               323       \n",
      "14         user14               320       \n",
      "23         user23               309       \n",
      "22         user22               275       \n",
      "26         user26               217       \n",
      "27         user27               211       \n",
      "12         user12               209       \n",
      "5          user5                192       \n",
      "34         user34               180       \n",
      "10         user10               170       \n",
      "30         user30               165       \n",
      "24         user24               162       \n",
      "2          user2                149       \n",
      "25         user25               136       \n",
      "18         user18               122       \n",
      "9          user9                118       \n",
      "3          user3                108       \n",
      "1          user1                104       \n",
      "28         user28               91        \n",
      "19         user19               58        \n",
      "29         user29               49        \n",
      "15         user15               35        \n",
      "32         user32               32        \n",
      "33         user33               32        \n"
     ]
    }
   ],
   "source": [
    "db_path = 'user_actions.db'\n",
    "conn = sqlite3.connect(db_path)\n",
    "cursor = conn.cursor()\n",
    "\n",
    "query = \"\"\"\n",
    "SELECT user_id, username, COUNT(*) AS log_count\n",
    "FROM user_actions\n",
    "GROUP BY user_id, username\n",
    "ORDER BY log_count DESC;\n",
    "\"\"\"\n",
    "\n",
    "# Executeing the query\n",
    "cursor.execute(query)\n",
    "\n",
    "# Fetching all results\n",
    "user_log_counts = cursor.fetchall()\n",
    "\n",
    "# Close the connections\n",
    "conn.close()\n",
    "# Displaying the results\n",
    "print(\"User Log Counts:\")\n",
    "print(f\"{'User ID':<10} {'Username':<20} {'Log Count':<10}\")\n",
    "for user_id, username, log_count in user_log_counts:\n",
    "    print(f\"{user_id:<10} {username:<20} {log_count:<10}\")"
   ]
  },
  {
   "cell_type": "code",
   "execution_count": null,
   "metadata": {},
   "outputs": [
    {
     "name": "stdout",
     "output_type": "stream",
     "text": [
      "Users who logged in and signed up on the same day:\n",
      "User ID    Username            \n",
      "8          user8               \n",
      "12         user12              \n",
      "30         user30              \n",
      "7          user7               \n",
      "22         user22              \n",
      "5          user5               \n",
      "2          user2               \n",
      "32         user32              \n"
     ]
    }
   ],
   "source": [
    "db_path = 'user_actions.db'\n",
    "conn = sqlite3.connect(db_path)\n",
    "cursor = conn.cursor()\n",
    "\n",
    "# SQL query to find users who have both logged in and signed up on the same day\n",
    "query = \"\"\"\n",
    "SELECT DISTINCT a.user_id, a.username\n",
    "FROM user_actions a\n",
    "JOIN user_actions b\n",
    "ON a.user_id = b.user_id AND DATE(a.timestamp) = DATE(b.timestamp)\n",
    "WHERE a.action = 'signup' AND b.action = 'login';\n",
    "\"\"\"\n",
    "cursor.execute(query)\n",
    "users_same_day = cursor.fetchall()\n",
    "conn.close()\n",
    "\n",
    "print(\"Users who logged in and signed up on the same day:\")\n",
    "print(f\"{'User ID':<10} {'Username':<20}\")\n",
    "for user_id, username in users_same_day:\n",
    "    print(f\"{user_id:<10} {username:<20}\")"
   ]
  },
  {
   "cell_type": "markdown",
   "metadata": {},
   "source": [
    "### Regex to extract information\n",
    "In this part of the report we'll be using regex to extract information from a text file. The file consists of comments from users and some of them use hashtags and with various commands we'll be able to extract the hashtags that has a word attached to them."
   ]
  },
  {
   "cell_type": "code",
   "execution_count": null,
   "metadata": {},
   "outputs": [
    {
     "name": "stdout",
     "output_type": "stream",
     "text": [
      "First Comment: 1. \"Great post! #programming #tips\"\n",
      "Extracted hashtags from the first comment: ['#programming', '#tips']\n"
     ]
    }
   ],
   "source": [
    "import re\n",
    "\n",
    "file_path = 'comments.txt'\n",
    "\n",
    "# Reading the file\n",
    "with open(file_path, 'r') as file:\n",
    "    comments = file.readline().strip()\n",
    "\n",
    "hashtags = re.findall(r'#\\w+', comments)\n",
    "\n",
    "print(\"First Comment:\", comments)\n",
    "print(\"Extracted hashtags from the first comment:\", hashtags)"
   ]
  },
  {
   "cell_type": "code",
   "execution_count": null,
   "metadata": {},
   "outputs": [
    {
     "name": "stdout",
     "output_type": "stream",
     "text": [
      "The second row of comment does not mention both #programming and #python.\n"
     ]
    }
   ],
   "source": [
    "comment_2 = comments[1]\n",
    "regex = r\"(?=.*#programming)(?=.*#python)\"\n",
    "\n",
    "if re.search(regex, comment_2):\n",
    "    print(\"The second row of comment mentions both #programming and #python:\")\n",
    "    print(comment_2)\n",
    "else:\n",
    "    print(\"The second row of comment does not mention both #programming and #python.\")"
   ]
  },
  {
   "cell_type": "code",
   "execution_count": null,
   "metadata": {},
   "outputs": [
    {
     "name": "stdout",
     "output_type": "stream",
     "text": [
      "Unique hashtags found in the comments file:\n",
      "{'#python', '#tech', '#coding', '#research', '#insights', '#analytics', '#analysis', '#innovation', '#programming', '#tips', '#data'}\n"
     ]
    }
   ],
   "source": [
    "# Initializing a set to store unique hashtags\n",
    "unique_hashtags = set()\n",
    "\n",
    "with open(file_path, 'r') as file:\n",
    "    for comment in file:\n",
    "        # Extracting hashtags from the comment\n",
    "        hashtags = re.findall(r'#\\w+', comment)\n",
    "        unique_hashtags.update(hashtags)\n",
    "\n",
    "print(\"Unique hashtags found in the comments file:\")\n",
    "print(unique_hashtags)"
   ]
  }
 ],
 "metadata": {
  "kernelspec": {
   "display_name": "Python 3",
   "language": "python",
   "name": "python3"
  },
  "language_info": {
   "codemirror_mode": {
    "name": "ipython",
    "version": 3
   },
   "file_extension": ".py",
   "mimetype": "text/x-python",
   "name": "python",
   "nbconvert_exporter": "python",
   "pygments_lexer": "ipython3",
   "version": "3.10.11"
  }
 },
 "nbformat": 4,
 "nbformat_minor": 2
}
