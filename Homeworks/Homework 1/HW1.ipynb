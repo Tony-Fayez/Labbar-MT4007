{
 "cells": [
  {
   "cell_type": "markdown",
   "metadata": {},
   "source": [
    "## Homework 1"
   ]
  },
  {
   "cell_type": "markdown",
   "metadata": {},
   "source": [
    "Hi, my name is Tony Fayez and I am 23 years old. I'm currently pursuing a bachelors degree in mathematics and economics. "
   ]
  },
  {
   "cell_type": "markdown",
   "metadata": {},
   "source": [
    "I have experience in fundemental programming and coding that I have participated during my time in Stockholm Universty and during the time here I've learnt how to manage dataset's and make sense out of big dataframes."
   ]
  }
 ],
 "metadata": {
  "language_info": {
   "name": "python"
  }
 },
 "nbformat": 4,
 "nbformat_minor": 2
}
